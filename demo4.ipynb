{
 "cells": [
  {
   "cell_type": "markdown",
   "id": "d732da99",
   "metadata": {},
   "source": [
    "### Приложение 4\n",
    "\n",
    "#### Создание ролей"
   ]
  },
  {
   "cell_type": "code",
   "execution_count": 1,
   "id": "80149d4f",
   "metadata": {},
   "outputs": [
    {
     "name": "stdout",
     "output_type": "stream",
     "text": [
      "ERROR:  role \"alice\" does not exist\n",
      "CREATE ROLE\n"
     ]
    }
   ],
   "source": [
    "# Создам роль Алиса с возможностью подключения \n",
    "# и создания других ролей\n",
    "\n",
    "!psql -U postgres -c \"DROP ROLE alice\"\n",
    "!psql -U postgres -c \"CREATE ROLE alice LOGIN CREATEROLE;\""
   ]
  },
  {
   "cell_type": "code",
   "execution_count": 2,
   "id": "ac7de641",
   "metadata": {},
   "outputs": [
    {
     "name": "stdout",
     "output_type": "stream",
     "text": [
      "ERROR:  role \"bob\" does not exist\n",
      "CREATE ROLE\n"
     ]
    }
   ],
   "source": [
    "# Проверим может ли Алиса подключаться к серверу \n",
    "# и создавать другие роли\n",
    "\n",
    "# Создадим Алисой роль Боб\n",
    "\n",
    "!psql -U alice -d postgres -c \"DROP ROLE bob\"\n",
    "!psql -U alice -d postgres -c \"CREATE ROLE bob LOGIN;\""
   ]
  },
  {
   "cell_type": "code",
   "execution_count": 3,
   "id": "37353e59",
   "metadata": {},
   "outputs": [
    {
     "name": "stdout",
     "output_type": "stream",
     "text": [
      "                                   List of roles\r\n",
      " Role name |                         Attributes                         | Member of \r\n",
      "-----------+------------------------------------------------------------+-----------\r\n",
      " alice     | Create role                                                | {}\r\n",
      " bob       |                                                            | {}\r\n",
      " postgres  | Superuser, Create role, Create DB, Replication, Bypass RLS | {}\r\n",
      "\r\n"
     ]
    }
   ],
   "source": [
    "# Действительно, получилось и подключиться\n",
    "# и создать пользователя для Боба.\n",
    "# Видим что в БД есть стандартная роль \n",
    "# postgres, а также alice и bob\n",
    "\n",
    "!psql -U alice -d postgres -c \"\\du\""
   ]
  },
  {
   "cell_type": "code",
   "execution_count": 4,
   "id": "a4b5a229",
   "metadata": {},
   "outputs": [
    {
     "name": "stdout",
     "output_type": "stream",
     "text": [
      "ERROR:  permission denied to create role\r\n"
     ]
    }
   ],
   "source": [
    "# Боб не может создавать другие роли\n",
    "\n",
    "!psql -U bob -d postgres -c \"CREATE ROLE charlie LOGIN;\""
   ]
  },
  {
   "cell_type": "code",
   "execution_count": 5,
   "id": "2486a9d5",
   "metadata": {},
   "outputs": [
    {
     "name": "stdout",
     "output_type": "stream",
     "text": [
      "ALTER ROLE\r\n"
     ]
    }
   ],
   "source": [
    "# Существующие роли можно изменять. \n",
    "# Например, Алиса может отобрать у Боба право входа:\n",
    "\n",
    "!psql -U alice -d postgres -c \"ALTER ROLE bob NOLOGIN;\""
   ]
  },
  {
   "cell_type": "code",
   "execution_count": 6,
   "id": "64de1048",
   "metadata": {},
   "outputs": [
    {
     "name": "stdout",
     "output_type": "stream",
     "text": [
      "psql: error: connection to server on socket \"/var/run/postgresql/.s.PGSQL.5432\" failed: FATAL:  role \"bob\" is not permitted to log in\r\n"
     ]
    }
   ],
   "source": [
    "# Боб не может подключиться к серверу\n",
    "\n",
    "!psql -U bob -d postgres -c \"CREATE ROLE charlie LOGIN;\""
   ]
  },
  {
   "cell_type": "markdown",
   "id": "f6235cb0",
   "metadata": {},
   "source": [
    "#### Владельцы"
   ]
  },
  {
   "cell_type": "markdown",
   "id": "24855259",
   "metadata": {},
   "source": [
    "Когда Алиса создает какой-либо объект в базе данных, она становится его владельцем."
   ]
  },
  {
   "cell_type": "code",
   "execution_count": 7,
   "id": "4ec21c9a",
   "metadata": {},
   "outputs": [
    {
     "name": "stdout",
     "output_type": "stream",
     "text": [
      "GRANT\n",
      "CREATE TABLE\n"
     ]
    }
   ],
   "source": [
    "!psql -U postgres -c \"GRANT CREATE ON SCHEMA public TO alice;\"\n",
    "!psql -U alice -d postgres -c \"CREATE TABLE alices_table(id integer)\""
   ]
  },
  {
   "cell_type": "code",
   "execution_count": 8,
   "id": "7cf3df27",
   "metadata": {},
   "outputs": [
    {
     "name": "stdout",
     "output_type": "stream",
     "text": [
      "            List of relations\r\n",
      " Schema |     Name     | Type  |  Owner   \r\n",
      "--------+--------------+-------+----------\r\n",
      " public | alices_table | table | alice\r\n",
      " public | test         | table | postgres\r\n",
      "(2 rows)\r\n",
      "\r\n"
     ]
    }
   ],
   "source": [
    "# В колонке owner виден владелец объекта\n",
    "\n",
    "!psql -U alice -d postgres -c \"\\dt\""
   ]
  },
  {
   "cell_type": "markdown",
   "id": "43e1becf",
   "metadata": {},
   "source": [
    "#### Удаление ролей"
   ]
  },
  {
   "cell_type": "code",
   "execution_count": 9,
   "id": "b4e319d3",
   "metadata": {},
   "outputs": [
    {
     "name": "stdout",
     "output_type": "stream",
     "text": [
      "ERROR:  role \"alice\" cannot be dropped because some objects depend on it\r\n",
      "DETAIL:  privileges for schema public\r\n",
      "owner of table alices_table\r\n"
     ]
    }
   ],
   "source": [
    "# Удалить роль можно, если нет объектов, которыми она владеет.\n",
    "\n",
    "!psql -U postgres -c \"DROP ROLE alice;\""
   ]
  },
  {
   "cell_type": "code",
   "execution_count": 10,
   "id": "7bf01b14",
   "metadata": {},
   "outputs": [
    {
     "name": "stdout",
     "output_type": "stream",
     "text": [
      "REVOKE\n",
      "REASSIGN OWNED\n"
     ]
    }
   ],
   "source": [
    "# Чтобы удалить роль Алисы, можно передать ее объекты другой роли:\n",
    "\n",
    "!psql -U postgres -c \"REVOKE CREATE ON SCHEMA public FROM alice;\"\n",
    "!psql -U postgres -c \"REASSIGN OWNED BY alice TO bob;\""
   ]
  },
  {
   "cell_type": "code",
   "execution_count": 11,
   "id": "a4ac17d7",
   "metadata": {},
   "outputs": [
    {
     "name": "stdout",
     "output_type": "stream",
     "text": [
      "DROP ROLE\r\n"
     ]
    }
   ],
   "source": [
    "!psql -U postgres -c \"DROP ROLE alice;\""
   ]
  },
  {
   "cell_type": "code",
   "execution_count": 12,
   "id": "27f37861",
   "metadata": {},
   "outputs": [
    {
     "name": "stdout",
     "output_type": "stream",
     "text": [
      "DROP OWNED\n",
      "DROP ROLE\n"
     ]
    }
   ],
   "source": [
    "# Другой вариант — удалить объекты, принадлежащие роли:\n",
    "\n",
    "!psql -U postgres -c \"DROP OWNED BY bob;\"\n",
    "!psql -U postgres -c \"DROP ROLE bob;\""
   ]
  },
  {
   "cell_type": "markdown",
   "id": "67a8ad41",
   "metadata": {},
   "source": [
    "#### Выдача привилегий\n",
    "\n",
    "Привилегии могут выдаваться на базы данных, схемы, табличные пространства, таблицы и представления. \n",
    "\n",
    "Больше всего привилегий определено для таблиц. Некоторые из них можно определить не только для всей таблицы, но и для отдельных столбцов"
   ]
  },
  {
   "attachments": {
    "image.png": {
     "image/png": "[encoded data removed]"
    }
   },
   "cell_type": "markdown",
   "id": "f790215e",
   "metadata": {},
   "source": [
    "![image.png](attachment:image.png)"
   ]
  },
  {
   "cell_type": "markdown",
   "id": "ebef60d8",
   "metadata": {},
   "source": [
    "При этом существуют три категории ролей: суперпользователи, владельцы объектов и прочие пользователи.\n",
    "\n"
   ]
  },
  {
   "attachments": {
    "image.png": {
     "image/png": "[encoded data removed]"
    }
   },
   "cell_type": "markdown",
   "id": "55a60b1c",
   "metadata": {},
   "source": [
    "![image.png](attachment:image.png)"
   ]
  },
  {
   "cell_type": "markdown",
   "id": "47182c7d",
   "metadata": {},
   "source": [
    "Привилегии выдаются командой `GRANT` и отзываются командой `REVOKE`"
   ]
  },
  {
   "cell_type": "code",
   "execution_count": 13,
   "id": "e48af3fb",
   "metadata": {},
   "outputs": [
    {
     "name": "stdout",
     "output_type": "stream",
     "text": [
      "CREATE ROLE\n",
      "CREATE SCHEMA\n",
      "GRANT\n",
      "CREATE TABLE\n",
      "CREATE TABLE\n"
     ]
    }
   ],
   "source": [
    "# В моем примере Алиса будет владельцем нескольких объектов в своей схеме.\n",
    "\n",
    "!psql -U postgres -c \"CREATE ROLE alice LOGIN;\"\n",
    "!psql -U postgres -c \"CREATE SCHEMA alice;\"\n",
    "!psql -U postgres -c \"GRANT CREATE, USAGE ON SCHEMA alice TO alice;\"\n",
    "!psql -U alice -d postgres -c \"CREATE TABLE t1(n integer);\"\n",
    "!psql -U alice -d postgres -c \"CREATE TABLE t2(n integer, m integer);\""
   ]
  },
  {
   "cell_type": "code",
   "execution_count": 14,
   "id": "bd1e3bc3",
   "metadata": {},
   "outputs": [
    {
     "name": "stdout",
     "output_type": "stream",
     "text": [
      "CREATE ROLE\n",
      "ERROR:  permission denied for schema alice\n",
      "LINE 1: SELECT * FROM alice.t1;\n",
      "                      ^\n"
     ]
    }
   ],
   "source": [
    "# Создадим роль Боб\n",
    "# Боб пробует обратиться к таблице t1.\n",
    "\n",
    "!psql -U postgres -c \"CREATE ROLE bob LOGIN;\"\n",
    "!psql -U bob -d postgres -c \"SELECT * FROM alice.t1;\""
   ]
  },
  {
   "cell_type": "markdown",
   "id": "1f594098",
   "metadata": {},
   "source": [
    "У Боба нет доступа к схеме, так как он не суперпользователь, не владелец схемы, и не имеет нужных привилегий."
   ]
  },
  {
   "cell_type": "code",
   "execution_count": 15,
   "id": "843cbd60",
   "metadata": {},
   "outputs": [
    {
     "name": "stdout",
     "output_type": "stream",
     "text": [
      "                    List of schemas\r\n",
      " Name  |  Owner   |  Access privileges   | Description \r\n",
      "-------+----------+----------------------+-------------\r\n",
      " alice | postgres | postgres=UC/postgres+| \r\n",
      "       |          | alice=UC/postgres    | \r\n",
      "(1 row)\r\n",
      "\r\n"
     ]
    }
   ],
   "source": [
    "!psql -U bob -d postgres -c \"\\dn+ alice\""
   ]
  },
  {
   "cell_type": "code",
   "execution_count": 16,
   "id": "54ad07f7",
   "metadata": {},
   "outputs": [
    {
     "name": "stdout",
     "output_type": "stream",
     "text": [
      "WARNING:  no privileges were granted for \"alice\"\r\n",
      "GRANT\r\n"
     ]
    }
   ],
   "source": [
    "# Чтобы Боб мог прочесть данные таблицы \n",
    "# Алисе надо выдать Бобу доступ к своей схеме.\n",
    "\n",
    "!psql -U alice -d postgres -c \"GRANT CREATE, USAGE ON SCHEMA alice TO bob;\""
   ]
  },
  {
   "cell_type": "markdown",
   "id": "b63d6f9b",
   "metadata": {},
   "source": [
    "Привилегия не выдалась потому что Алиса не является владельцем схемы. Сменим владельца схемы на Алису"
   ]
  },
  {
   "cell_type": "code",
   "execution_count": 17,
   "id": "1aa820ef",
   "metadata": {},
   "outputs": [
    {
     "name": "stdout",
     "output_type": "stream",
     "text": [
      "ALTER SCHEMA\r\n"
     ]
    }
   ],
   "source": [
    "!psql -U postgres -c \"ALTER SCHEMA alice OWNER TO alice;\""
   ]
  },
  {
   "cell_type": "code",
   "execution_count": 18,
   "id": "9cf0a5f5",
   "metadata": {},
   "outputs": [
    {
     "name": "stdout",
     "output_type": "stream",
     "text": [
      "GRANT\n",
      "ERROR:  permission denied for table t1\n"
     ]
    }
   ],
   "source": [
    "# Повторю запрос - теперь права выдались корректно\n",
    "# Попробуем Бобом прочитать данные таблицы \n",
    "\n",
    "!psql -U alice -d postgres -c \"GRANT CREATE, USAGE ON SCHEMA alice TO bob;\"\n",
    "!psql -U bob -d postgres -c \"SELECT * FROM alice.t1;\""
   ]
  },
  {
   "cell_type": "code",
   "execution_count": 19,
   "id": "10fa3f6e",
   "metadata": {},
   "outputs": [
    {
     "name": "stdout",
     "output_type": "stream",
     "text": [
      "GRANT\n",
      " n \n",
      "---\n",
      "(0 rows)\n",
      "\n"
     ]
    }
   ],
   "source": [
    "# Теперь вернулась ошибка нехватки прав \n",
    "# уже не на схему а на таблицу\n",
    "# Выдам права чтения на таблицу\n",
    "\n",
    "!psql -U alice -d postgres -c \"GRANT SELECT ON TABLE alice.t1 TO bob;\"\n",
    "!psql -U bob -d postgres -c \"SELECT * FROM alice.t1;\""
   ]
  },
  {
   "cell_type": "code",
   "execution_count": 20,
   "id": "1eb61647",
   "metadata": {},
   "outputs": [
    {
     "name": "stdout",
     "output_type": "stream",
     "text": [
      "ERROR:  permission denied for table t1\r\n"
     ]
    }
   ],
   "source": [
    "# Права выдались и Боб смог прочесть таблицу.\n",
    "# Кстати она пустая!\n",
    "\n",
    "# Попробуем Бобом положить туда какие-то данные\n",
    "\n",
    "!psql -U bob -d postgres -c \"INSERT INTO alice.t1 VALUES (911);\""
   ]
  },
  {
   "cell_type": "code",
   "execution_count": 21,
   "id": "36628d0f",
   "metadata": {},
   "outputs": [
    {
     "name": "stdout",
     "output_type": "stream",
     "text": [
      "GRANT\n",
      "INSERT 0 1\n"
     ]
    }
   ],
   "source": [
    "# Опять вернулась ошибка потому что у Боба\n",
    "# есть только права на чтение (SELECT)\n",
    "# Чтобы об мог вставлять новые строки в таблицу \n",
    "# ему нужны права на INSERT\n",
    "\n",
    "# Попросим Алису выдать Бобу нужные права\n",
    "\n",
    "!psql -U alice -d postgres -c \"GRANT INSERT ON TABLE alice.t1 TO bob;\"\n",
    "\n",
    "# Повторим попытку вставки\n",
    "\n",
    "!psql -U bob -d postgres -c \"INSERT INTO alice.t1 VALUES (911);\""
   ]
  },
  {
   "cell_type": "code",
   "execution_count": 22,
   "id": "e17ce304",
   "metadata": {},
   "outputs": [
    {
     "name": "stdout",
     "output_type": "stream",
     "text": [
      "  n  \r\n",
      "-----\r\n",
      " 911\r\n",
      "(1 row)\r\n",
      "\r\n"
     ]
    }
   ],
   "source": [
    "# Кажется удалось. Прочтем таблицу заново\n",
    "\n",
    "!psql -U bob -d postgres -c \"SELECT * FROM alice.t1;\""
   ]
  },
  {
   "cell_type": "markdown",
   "id": "e2bd28b6",
   "metadata": {},
   "source": [
    "Таким же образом Алиса или суперюзер postgres (или любой другой суперюзер) может выдать права на: \n",
    "* `SELECT`\n",
    "* `INSERT`\n",
    "* `UPDATE`\n",
    "* `DELETE`\n",
    "* `TRUNCATE`\n",
    "* `TRIGGER`\n",
    "* `REFERENCES`\n",
    "\n",
    "или для выдачи всех прав разом можно просто указать `ALL`"
   ]
  },
  {
   "cell_type": "code",
   "execution_count": 23,
   "id": "2d625189",
   "metadata": {},
   "outputs": [
    {
     "name": "stdout",
     "output_type": "stream",
     "text": [
      "GRANT\r\n"
     ]
    }
   ],
   "source": [
    "!psql -U alice -d postgres -c \"GRANT ALL ON TABLE alice.t1 TO bob;\""
   ]
  },
  {
   "cell_type": "code",
   "execution_count": 24,
   "id": "78c1e9db",
   "metadata": {},
   "outputs": [
    {
     "name": "stdout",
     "output_type": "stream",
     "text": [
      "TRUNCATE TABLE\n",
      " n \n",
      "---\n",
      "(0 rows)\n",
      "\n"
     ]
    }
   ],
   "source": [
    "# Теперь Боб может удалить строку из \n",
    "# таблицы или полностью очистить её\n",
    "\n",
    "!psql -U bob -d postgres -c \"TRUNCATE alice.t1;\"\n",
    "!psql -U bob -d postgres -c \"SELECT * FROM alice.t1;\""
   ]
  },
  {
   "cell_type": "code",
   "execution_count": 25,
   "id": "05effb9c",
   "metadata": {},
   "outputs": [
    {
     "name": "stdout",
     "output_type": "stream",
     "text": [
      "DROP OWNED\n",
      "DROP OWNED\n",
      "DROP ROLE\n",
      "DROP ROLE\n"
     ]
    }
   ],
   "source": [
    "# Удалим в конце все созданные объекты \n",
    "\n",
    "!psql -U postgres -c \"DROP OWNED BY alice;\"\n",
    "!psql -U postgres -c \"DROP OWNED BY bob;\"\n",
    "!psql -U postgres -c \"DROP ROLE alice;\"\n",
    "!psql -U postgres -c \"DROP ROLE bob;\""
   ]
  },
  {
   "cell_type": "code",
   "execution_count": null,
   "id": "7ff0cbb4",
   "metadata": {},
   "outputs": [],
   "source": []
  }
 ],
 "metadata": {
  "kernelspec": {
   "display_name": "Python 3 (ipykernel)",
   "language": "python",
   "name": "python3"
  },
  "language_info": {
   "codemirror_mode": {
    "name": "ipython",
    "version": 3
   },
   "file_extension": ".py",
   "mimetype": "text/x-python",
   "name": "python",
   "nbconvert_exporter": "python",
   "pygments_lexer": "ipython3",
   "version": "3.11.2"
  }
 },
 "nbformat": 4,
 "nbformat_minor": 5
}
