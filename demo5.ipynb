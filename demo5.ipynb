{
 "cells": [
  {
   "cell_type": "markdown",
   "id": "fe7ac754",
   "metadata": {},
   "source": [
    "### Приложение 5\n",
    "\n",
    "#### Логическое резервное копирование"
   ]
  },
  {
   "cell_type": "markdown",
   "id": "7e3480fd",
   "metadata": {},
   "source": [
    "Логическое резервное копирование можно выполнить утилитой `pg_dump` для копирования конкретной базы данных на сервере или утилитой команды `pg_dumpall` для копирования всего кластера целиком."
   ]
  },
  {
   "cell_type": "code",
   "execution_count": 1,
   "id": "3d8744bf",
   "metadata": {},
   "outputs": [
    {
     "name": "stdout",
     "output_type": "stream",
     "text": [
      "                                                 List of databases\r\n",
      "   Name    |  Owner   | Encoding |   Collate   |    Ctype    | ICU Locale | Locale Provider |   Access privileges   \r\n",
      "-----------+----------+----------+-------------+-------------+------------+-----------------+-----------------------\r\n",
      " postgres  | postgres | UTF8     | en_SG.UTF-8 | en_SG.UTF-8 |            | libc            | \r\n",
      " template0 | postgres | UTF8     | en_SG.UTF-8 | en_SG.UTF-8 |            | libc            | =c/postgres          +\r\n",
      "           |          |          |             |             |            |                 | postgres=CTc/postgres\r\n",
      " template1 | postgres | UTF8     | en_SG.UTF-8 | en_SG.UTF-8 |            | libc            | =c/postgres          +\r\n",
      "           |          |          |             |             |            |                 | postgres=CTc/postgres\r\n",
      "(3 rows)\r\n",
      "\r\n"
     ]
    }
   ],
   "source": [
    "# Видим что у нас всего одна база данных postgres \n",
    "# за исключением двух шаблонов template0 template1\n",
    "\n",
    "!psql -U postgres -c \"\\l\""
   ]
  },
  {
   "cell_type": "code",
   "execution_count": 2,
   "id": "2b99ecf5",
   "metadata": {},
   "outputs": [
    {
     "name": "stdout",
     "output_type": "stream",
     "text": [
      "DROP DATABASE\n",
      "CREATE DATABASE\n",
      "CREATE TABLE\n",
      "INSERT 0 3\n",
      " id \n",
      "----\n",
      "  1\n",
      "  2\n",
      "  3\n",
      "(3 rows)\n",
      "\n"
     ]
    }
   ],
   "source": [
    "# Создам таблицу test и наполню её данными!\n",
    "\n",
    "!psql -U postgres -d template1 -c \"DROP DATABASE postgres;\"\n",
    "!psql -U postgres -d template1 -c \"CREATE DATABASE postgres;\"\n",
    "!psql -U postgres -c \"CREATE TABLE test(id integer);\"\n",
    "!psql -U postgres -c \"INSERT INTO test VALUES (1), (2), (3)\"\n",
    "!psql -U postgres -c \"SELECT * FROM test;\""
   ]
  },
  {
   "cell_type": "code",
   "execution_count": 3,
   "id": "ff45ed94",
   "metadata": {},
   "outputs": [
    {
     "name": "stdout",
     "output_type": "stream",
     "text": [
      "pg_dump dumps a database as a text file or to other formats.\r\n",
      "\r\n",
      "Usage:\r\n",
      "  pg_dump [OPTION]... [DBNAME]\r\n",
      "\r\n",
      "General options:\r\n",
      "  -f, --file=FILENAME          output file or directory name\r\n",
      "  -F, --format=c|d|t|p         output file format (custom, directory, tar,\r\n",
      "                               plain text (default))\r\n",
      "  -j, --jobs=NUM               use this many parallel jobs to dump\r\n",
      "  -v, --verbose                verbose mode\r\n",
      "  -V, --version                output version information, then exit\r\n",
      "  -Z, --compress=0-9           compression level for compressed formats\r\n",
      "  --lock-wait-timeout=TIMEOUT  fail after waiting TIMEOUT for a table lock\r\n",
      "  --no-sync                    do not wait for changes to be written safely to disk\r\n",
      "  -?, --help                   show this help, then exit\r\n",
      "\r\n",
      "Options controlling the output content:\r\n",
      "  -a, --data-only              dump only the data, not the schema\r\n",
      "  -b, --blobs                  include large objects in dump\r\n",
      "  -B, --no-blobs               exclude large objects in dump\r\n",
      "  -c, --clean                  clean (drop) database objects before recreating\r\n",
      "  -C, --create                 include commands to create database in dump\r\n",
      "  -e, --extension=PATTERN      dump the specified extension(s) only\r\n",
      "  -E, --encoding=ENCODING      dump the data in encoding ENCODING\r\n",
      "  -n, --schema=PATTERN         dump the specified schema(s) only\r\n",
      "  -N, --exclude-schema=PATTERN do NOT dump the specified schema(s)\r\n",
      "  -O, --no-owner               skip restoration of object ownership in\r\n",
      "                               plain-text format\r\n",
      "  -s, --schema-only            dump only the schema, no data\r\n",
      "  -S, --superuser=NAME         superuser user name to use in plain-text format\r\n",
      "  -t, --table=PATTERN          dump the specified table(s) only\r\n",
      "  -T, --exclude-table=PATTERN  do NOT dump the specified table(s)\r\n",
      "  -x, --no-privileges          do not dump privileges (grant/revoke)\r\n",
      "  --binary-upgrade             for use by upgrade utilities only\r\n",
      "  --column-inserts             dump data as INSERT commands with column names\r\n",
      "  --disable-dollar-quoting     disable dollar quoting, use SQL standard quoting\r\n",
      "  --disable-triggers           disable triggers during data-only restore\r\n",
      "  --enable-row-security        enable row security (dump only content user has\r\n",
      "                               access to)\r\n",
      "  --exclude-table-data=PATTERN do NOT dump data for the specified table(s)\r\n",
      "  --extra-float-digits=NUM     override default setting for extra_float_digits\r\n",
      "  --if-exists                  use IF EXISTS when dropping objects\r\n",
      "  --include-foreign-data=PATTERN\r\n",
      "                               include data of foreign tables on foreign\r\n",
      "                               servers matching PATTERN\r\n",
      "  --inserts                    dump data as INSERT commands, rather than COPY\r\n",
      "  --load-via-partition-root    load partitions via the root table\r\n",
      "  --no-comments                do not dump comments\r\n",
      "  --no-publications            do not dump publications\r\n",
      "  --no-security-labels         do not dump security label assignments\r\n",
      "  --no-subscriptions           do not dump subscriptions\r\n",
      "  --no-table-access-method     do not dump table access methods\r\n",
      "  --no-tablespaces             do not dump tablespace assignments\r\n",
      "  --no-toast-compression       do not dump TOAST compression methods\r\n",
      "  --no-unlogged-table-data     do not dump unlogged table data\r\n",
      "  --on-conflict-do-nothing     add ON CONFLICT DO NOTHING to INSERT commands\r\n",
      "  --quote-all-identifiers      quote all identifiers, even if not key words\r\n",
      "  --rows-per-insert=NROWS      number of rows per INSERT; implies --inserts\r\n",
      "  --section=SECTION            dump named section (pre-data, data, or post-data)\r\n",
      "  --serializable-deferrable    wait until the dump can run without anomalies\r\n",
      "  --snapshot=SNAPSHOT          use given snapshot for the dump\r\n",
      "  --strict-names               require table and/or schema include patterns to\r\n",
      "                               match at least one entity each\r\n",
      "  --use-set-session-authorization\r\n",
      "                               use SET SESSION AUTHORIZATION commands instead of\r\n",
      "                               ALTER OWNER commands to set ownership\r\n",
      "\r\n",
      "Connection options:\r\n",
      "  -d, --dbname=DBNAME      database to dump\r\n",
      "  -h, --host=HOSTNAME      database server host or socket directory\r\n",
      "  -p, --port=PORT          database server port number\r\n",
      "  -U, --username=NAME      connect as specified database user\r\n",
      "  -w, --no-password        never prompt for password\r\n",
      "  -W, --password           force password prompt (should happen automatically)\r\n",
      "  --role=ROLENAME          do SET ROLE before dump\r\n",
      "\r\n",
      "If no database name is supplied, then the PGDATABASE environment\r\n",
      "variable value is used.\r\n",
      "\r\n",
      "Report bugs to <pgsql-bugs@lists.postgresql.org>.\r\n",
      "PostgreSQL home page: <https://www.postgresql.org/>\r\n"
     ]
    }
   ],
   "source": [
    "# Посмотрим справку по резервному копированию pg_dump\n",
    "\n",
    "!pg_dump --help"
   ]
  },
  {
   "cell_type": "code",
   "execution_count": 4,
   "id": "186ba41d",
   "metadata": {},
   "outputs": [
    {
     "name": "stdout",
     "output_type": "stream",
     "text": [
      "-rw-r--r-- 1 evgeny evgeny 892 Jun  8 22:07 dump.txt\r\n"
     ]
    }
   ],
   "source": [
    "# Выполним резервное копирование и \n",
    "# сохраним в файлик dump.txt\n",
    "\n",
    "!pg_dump -U postgres -d postgres -f dump.txt\n",
    "!ls -l dump.txt"
   ]
  },
  {
   "cell_type": "code",
   "execution_count": 5,
   "id": "f361fcb4",
   "metadata": {},
   "outputs": [
    {
     "name": "stdout",
     "output_type": "stream",
     "text": [
      "--\r\n",
      "-- PostgreSQL database dump\r\n",
      "--\r\n",
      "\r\n",
      "-- Dumped from database version 15.6 (Debian 15.6-0+deb12u1)\r\n",
      "-- Dumped by pg_dump version 15.6 (Debian 15.6-0+deb12u1)\r\n",
      "\r\n",
      "SET statement_timeout = 0;\r\n",
      "SET lock_timeout = 0;\r\n",
      "SET idle_in_transaction_session_timeout = 0;\r\n",
      "SET client_encoding = 'UTF8';\r\n",
      "SET standard_conforming_strings = on;\r\n",
      "SELECT pg_catalog.set_config('search_path', '', false);\r\n",
      "SET check_function_bodies = false;\r\n",
      "SET xmloption = content;\r\n",
      "SET client_min_messages = warning;\r\n",
      "SET row_security = off;\r\n",
      "\r\n",
      "SET default_tablespace = '';\r\n",
      "\r\n",
      "SET default_table_access_method = heap;\r\n",
      "\r\n",
      "--\r\n",
      "-- Name: test; Type: TABLE; Schema: public; Owner: postgres\r\n",
      "--\r\n",
      "\r\n",
      "CREATE TABLE public.test (\r\n",
      "    id integer\r\n",
      ");\r\n",
      "\r\n",
      "\r\n",
      "ALTER TABLE public.test OWNER TO postgres;\r\n",
      "\r\n",
      "--\r\n",
      "-- Data for Name: test; Type: TABLE DATA; Schema: public; Owner: postgres\r\n",
      "--\r\n",
      "\r\n",
      "COPY public.test (id) FROM stdin;\r\n",
      "1\r\n",
      "2\r\n",
      "3\r\n",
      "\\.\r\n",
      "\r\n",
      "\r\n",
      "--\r\n",
      "-- PostgreSQL database dump complete\r\n",
      "--\r\n",
      "\r\n"
     ]
    }
   ],
   "source": [
    "# прочитаем пару первых строк файла\n",
    "\n",
    "!cat dump.txt"
   ]
  },
  {
   "cell_type": "markdown",
   "id": "4140c7b6",
   "metadata": {},
   "source": [
    "Резервное копирование выполнено. Попрактикуюсь в восстановлении базы данных из резервной копии."
   ]
  },
  {
   "cell_type": "code",
   "execution_count": 6,
   "id": "ded06ed6",
   "metadata": {},
   "outputs": [
    {
     "name": "stdout",
     "output_type": "stream",
     "text": [
      "DROP DATABASE\n",
      "CREATE DATABASE\n"
     ]
    }
   ],
   "source": [
    "# Сначала дропну целевую базу данных и создам чистую\n",
    "\n",
    "!psql -U postgres -d template1 -c \"DROP DATABASE postgres;\"\n",
    "!psql -U postgres -d template1 -c \"CREATE DATABASE postgres;\""
   ]
  },
  {
   "cell_type": "code",
   "execution_count": 7,
   "id": "0d4f46e3",
   "metadata": {},
   "outputs": [
    {
     "name": "stdout",
     "output_type": "stream",
     "text": [
      "SET\r\n",
      "SET\r\n",
      "SET\r\n",
      "SET\r\n",
      "SET\r\n",
      " set_config \r\n",
      "------------\r\n",
      " \r\n",
      "(1 row)\r\n",
      "\r\n",
      "SET\r\n",
      "SET\r\n",
      "SET\r\n",
      "SET\r\n",
      "SET\r\n",
      "SET\r\n",
      "CREATE TABLE\r\n",
      "ALTER TABLE\r\n",
      "COPY 3\r\n"
     ]
    }
   ],
   "source": [
    "# А теперь восстановлю из дампа\n",
    "\n",
    "!cat dump.txt | psql -U postgres -d postgres"
   ]
  },
  {
   "cell_type": "code",
   "execution_count": 8,
   "id": "b6375d3d",
   "metadata": {},
   "outputs": [
    {
     "name": "stdout",
     "output_type": "stream",
     "text": [
      " id \r\n",
      "----\r\n",
      "  1\r\n",
      "  2\r\n",
      "  3\r\n",
      "(3 rows)\r\n",
      "\r\n"
     ]
    }
   ],
   "source": [
    "# Убедимся что данные восстановились\n",
    "\n",
    "!psql -U postgres -c \"SELECT * FROM test;\""
   ]
  },
  {
   "cell_type": "markdown",
   "id": "b8266540",
   "metadata": {},
   "source": [
    "###  Репликация"
   ]
  },
  {
   "cell_type": "code",
   "execution_count": 10,
   "id": "0d52e495",
   "metadata": {},
   "outputs": [
    {
     "name": "stdout",
     "output_type": "stream",
     "text": [
      " wal_level \n",
      "-----------\n",
      " replica\n",
      "(1 row)\n",
      "\n",
      " max_wal_senders \n",
      "-----------------\n",
      " 10\n",
      "(1 row)\n",
      "\n"
     ]
    }
   ],
   "source": [
    "# Настройки по умолчанию позволяют \n",
    "# использовать протокол репликации:\n",
    "\n",
    "# Посмотрим настройки на нашем сервере СУБД\n",
    "\n",
    "!psql -U postgres -c \"SHOW wal_level;\"\n",
    "!psql -U postgres -c \"SHOW max_wal_senders;\""
   ]
  },
  {
   "cell_type": "code",
   "execution_count": 11,
   "id": "31fe2fe5",
   "metadata": {},
   "outputs": [
    {
     "name": "stdout",
     "output_type": "stream",
     "text": [
      "              hba_file               \r\n",
      "-------------------------------------\r\n",
      " /etc/postgresql/15/main/pg_hba.conf\r\n",
      "(1 row)\r\n",
      "\r\n"
     ]
    }
   ],
   "source": [
    "# Посмотрим позволяют ли настройки подключение \n",
    "# по протоколу репикации\n",
    "\n",
    "# Выясним где лежит файл pg_hba.conf\n",
    "\n",
    "!psql -U postgres -c \"SHOW hba_file;\""
   ]
  },
  {
   "cell_type": "code",
   "execution_count": 15,
   "id": "f56aaa3e",
   "metadata": {},
   "outputs": [
    {
     "name": "stdout",
     "output_type": "stream",
     "text": [
      "[sudo] password for evgeny: local   all             all                                     trust\r",
      "\r\n",
      "# IPv4 local connections:\r",
      "\r\n",
      "host    all             all             127.0.0.1/32            scram-sha-256\r",
      "\r\n",
      "# IPv6 local connections:\r",
      "\r\n",
      "host    all             all             ::1/128                 scram-sha-256\r",
      "\r\n",
      "# Allow replication connections from localhost, by a user with the\r",
      "\r\n",
      "# replication privilege.\r",
      "\r\n",
      "local   replication     all                                     trust\r",
      "\r\n",
      "host    replication     all             127.0.0.1/32            scram-sha-256\r",
      "\r\n",
      "host    replication     all             ::1/128                 scram-sha-256\r",
      "\r\n"
     ]
    }
   ],
   "source": [
    "# Посмотрим его параметры \n",
    "\n",
    "!echo 314159 | sudo -S tail /etc/postgresql/15/main/pg_hba.conf"
   ]
  },
  {
   "cell_type": "markdown",
   "id": "f33688a6",
   "metadata": {},
   "source": [
    "В самом конце файла видим параметр для локального подключения\n",
    "* `trust` \n",
    "\n",
    "Значит всё в порядке"
   ]
  },
  {
   "cell_type": "markdown",
   "id": "a7db4a26",
   "metadata": {},
   "source": [
    "Создадим автономную резервную копию. С ключом `-R` утилита сформирует необходимые для репликации конфигурационные параметры."
   ]
  },
  {
   "cell_type": "code",
   "execution_count": 18,
   "id": "91a94393",
   "metadata": {},
   "outputs": [],
   "source": [
    "!pg_basebackup -U postgres --pgdata=/home/evgeny/Projects/internship/basebackup -R"
   ]
  },
  {
   "cell_type": "code",
   "execution_count": 20,
   "id": "13fafd86",
   "metadata": {},
   "outputs": [
    {
     "name": "stdout",
     "output_type": "stream",
     "text": [
      "total 216\r\n",
      "-rw------- 1 evgeny evgeny    225 Jun  8 22:22 backup_label\r\n",
      "-rw------- 1 evgeny evgeny 138237 Jun  8 22:22 backup_manifest\r\n",
      "drwx------ 5 evgeny evgeny   4096 Jun  8 22:22 base\r\n",
      "drwx------ 2 evgeny evgeny   4096 Jun  8 22:22 global\r\n",
      "drwx------ 2 evgeny evgeny   4096 Jun  8 22:22 pg_commit_ts\r\n",
      "drwx------ 2 evgeny evgeny   4096 Jun  8 22:22 pg_dynshmem\r\n",
      "drwx------ 4 evgeny evgeny   4096 Jun  8 22:22 pg_logical\r\n",
      "drwx------ 4 evgeny evgeny   4096 Jun  8 22:22 pg_multixact\r\n",
      "drwx------ 2 evgeny evgeny   4096 Jun  8 22:22 pg_notify\r\n",
      "drwx------ 2 evgeny evgeny   4096 Jun  8 22:22 pg_replslot\r\n",
      "drwx------ 2 evgeny evgeny   4096 Jun  8 22:22 pg_serial\r\n",
      "drwx------ 2 evgeny evgeny   4096 Jun  8 22:22 pg_snapshots\r\n",
      "drwx------ 2 evgeny evgeny   4096 Jun  8 22:22 pg_stat\r\n",
      "drwx------ 2 evgeny evgeny   4096 Jun  8 22:22 pg_stat_tmp\r\n",
      "drwx------ 2 evgeny evgeny   4096 Jun  8 22:22 pg_subtrans\r\n",
      "drwx------ 2 evgeny evgeny   4096 Jun  8 22:22 pg_tblspc\r\n",
      "drwx------ 2 evgeny evgeny   4096 Jun  8 22:22 pg_twophase\r\n",
      "-rw------- 1 evgeny evgeny      3 Jun  8 22:22 PG_VERSION\r\n",
      "drwx------ 3 evgeny evgeny   4096 Jun  8 22:22 pg_wal\r\n",
      "drwx------ 2 evgeny evgeny   4096 Jun  8 22:22 pg_xact\r\n",
      "-rw------- 1 evgeny evgeny    417 Jun  8 22:22 postgresql.auto.conf\r\n",
      "-rw------- 1 evgeny evgeny      0 Jun  8 22:22 standby.signal\r\n"
     ]
    }
   ],
   "source": [
    "# Посмотрим что там\n",
    "\n",
    "!ls -l /home/evgeny/Projects/internship/basebackup"
   ]
  },
  {
   "cell_type": "code",
   "execution_count": 24,
   "id": "f4a3ea18",
   "metadata": {},
   "outputs": [
    {
     "name": "stdout",
     "output_type": "stream",
     "text": [
      "[sudo] password for evgeny: "
     ]
    }
   ],
   "source": [
    "!echo 314159 | sudo -S mv /home/evgeny/Projects/internship/basebackup/ /var/lib/postgresql/15/replica"
   ]
  },
  {
   "cell_type": "code",
   "execution_count": 33,
   "id": "51a7fb1a",
   "metadata": {},
   "outputs": [
    {
     "name": "stdout",
     "output_type": "stream",
     "text": [
      "[sudo] password for evgeny: "
     ]
    }
   ],
   "source": [
    "# Меня владельца файлов на postgres\n",
    "\n",
    "!echo 314159 | sudo -S chown postgres:postgres -R /var/lib/postgresql/15/replica"
   ]
  },
  {
   "cell_type": "code",
   "execution_count": 35,
   "id": "7af6a05f",
   "metadata": {},
   "outputs": [
    {
     "name": "stdout",
     "output_type": "stream",
     "text": [
      "[sudo] password for evgeny: total 216\r",
      "\r\n",
      "-rw------- 1 postgres postgres    225 Jun  8 22:22 backup_label\r",
      "\r\n",
      "-rw------- 1 postgres postgres 138237 Jun  8 22:22 backup_manifest\r",
      "\r\n",
      "drwx------ 5 postgres postgres   4096 Jun  8 22:22 base\r",
      "\r\n",
      "drwx------ 2 postgres postgres   4096 Jun  8 22:22 global\r",
      "\r\n",
      "drwx------ 2 postgres postgres   4096 Jun  8 22:22 pg_commit_ts\r",
      "\r\n",
      "drwx------ 2 postgres postgres   4096 Jun  8 22:22 pg_dynshmem\r",
      "\r\n",
      "drwx------ 4 postgres postgres   4096 Jun  8 22:22 pg_logical\r",
      "\r\n",
      "drwx------ 4 postgres postgres   4096 Jun  8 22:22 pg_multixact\r",
      "\r\n",
      "drwx------ 2 postgres postgres   4096 Jun  8 22:22 pg_notify\r",
      "\r\n",
      "drwx------ 2 postgres postgres   4096 Jun  8 22:22 pg_replslot\r",
      "\r\n",
      "drwx------ 2 postgres postgres   4096 Jun  8 22:22 pg_serial\r",
      "\r\n",
      "drwx------ 2 postgres postgres   4096 Jun  8 22:22 pg_snapshots\r",
      "\r\n",
      "drwx------ 2 postgres postgres   4096 Jun  8 22:22 pg_stat\r",
      "\r\n",
      "drwx------ 2 postgres postgres   4096 Jun  8 22:22 pg_stat_tmp\r",
      "\r\n",
      "drwx------ 2 postgres postgres   4096 Jun  8 22:22 pg_subtrans\r",
      "\r\n",
      "drwx------ 2 postgres postgres   4096 Jun  8 22:22 pg_tblspc\r",
      "\r\n",
      "drwx------ 2 postgres postgres   4096 Jun  8 22:22 pg_twophase\r",
      "\r\n",
      "-rw------- 1 postgres postgres      3 Jun  8 22:22 PG_VERSION\r",
      "\r\n",
      "drwx------ 3 postgres postgres   4096 Jun  8 22:22 pg_wal\r",
      "\r\n",
      "drwx------ 2 postgres postgres   4096 Jun  8 22:22 pg_xact\r",
      "\r\n",
      "-rw------- 1 postgres postgres    417 Jun  8 22:22 postgresql.auto.conf\r",
      "\r\n",
      "-rw------- 1 postgres postgres      0 Jun  8 22:22 standby.signal\r",
      "\r\n"
     ]
    }
   ],
   "source": [
    "# Проверяю правльность действий\n",
    "\n",
    "!echo 314159 | sudo -S ls -l /var/lib/postgresql/15/replica"
   ]
  },
  {
   "cell_type": "code",
   "execution_count": 40,
   "id": "28e0253d",
   "metadata": {},
   "outputs": [
    {
     "name": "stdout",
     "output_type": "stream",
     "text": [
      "[sudo] password for evgeny: # Do not edit this file manually!\r",
      "\r\n",
      "# It will be overwritten by the ALTER SYSTEM command.\r",
      "\r\n",
      "primary_conninfo = 'user=postgres passfile=''/home/evgeny/.pgpass'' channel_binding=prefer host=''/var/run/postgresql'' port=5432 sslmode=prefer sslcompression=0 sslcertmode=allow sslsni=1 ssl_min_protocol_version=TLSv1.2 gssencmode=prefer krbsrvname=postgres gssdelegation=0 target_session_attrs=any load_balance_hosts=disable'\r",
      "\r\n"
     ]
    }
   ],
   "source": [
    "# Файл конфигурации реплики\n",
    "\n",
    "!echo 314159 | sudo -S cat /var/lib/postgresql/15/replica/postgresql.auto.conf"
   ]
  },
  {
   "cell_type": "markdown",
   "id": "428bd655",
   "metadata": {},
   "source": [
    "Реплика сервера будет доступна сразу после выполнения команды \n",
    "\n",
    "`pg_ctlcluster 15 replica start`\n",
    "\n",
    "Все изменения на мастер-сервере будут транслироваться на реплику"
   ]
  }
 ],
 "metadata": {
  "kernelspec": {
   "display_name": "Python 3 (ipykernel)",
   "language": "python",
   "name": "python3"
  },
  "language_info": {
   "codemirror_mode": {
    "name": "ipython",
    "version": 3
   },
   "file_extension": ".py",
   "mimetype": "text/x-python",
   "name": "python",
   "nbconvert_exporter": "python",
   "pygments_lexer": "ipython3",
   "version": "3.11.2"
  }
 },
 "nbformat": 4,
 "nbformat_minor": 5
}
